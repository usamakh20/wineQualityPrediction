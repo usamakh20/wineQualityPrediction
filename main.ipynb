{
 "cells": [
  {
   "cell_type": "markdown",
   "metadata": {
    "collapsed": true,
    "pycharm": {
     "name": "#%% md\n"
    }
   },
   "source": [
    "##### Name: Usama Khalid\n",
    "##### Roll: i19-1236"
   ]
  },
  {
   "cell_type": "code",
   "execution_count": 1,
   "outputs": [],
   "source": [
    "import torch\n",
    "import pandas as pd\n",
    "from torch import nn\n",
    "import torch.nn.functional as F\n",
    "from torch.utils.data import DataLoader, TensorDataset, random_split"
   ],
   "metadata": {
    "collapsed": false,
    "pycharm": {
     "name": "#%%\n"
    }
   }
  },
  {
   "cell_type": "markdown",
   "source": [
    "### 1. Read and Visualize the data"
   ],
   "metadata": {
    "collapsed": false,
    "pycharm": {
     "name": "#%% md\n"
    }
   }
  },
  {
   "cell_type": "code",
   "execution_count": 2,
   "outputs": [
    {
     "data": {
      "text/plain": "   fixed acidity  volatile acidity  citric acid  residual sugar  chlorides  \\\n0            7.4              0.70         0.00             1.9      0.076   \n1            7.8              0.88         0.00             2.6      0.098   \n2            7.8              0.76         0.04             2.3      0.092   \n3           11.2              0.28         0.56             1.9      0.075   \n4            7.4              0.70         0.00             1.9      0.076   \n\n   free sulfur dioxide  total sulfur dioxide  density    pH  sulphates  \\\n0                 11.0                  34.0   0.9978  3.51       0.56   \n1                 25.0                  67.0   0.9968  3.20       0.68   \n2                 15.0                  54.0   0.9970  3.26       0.65   \n3                 17.0                  60.0   0.9980  3.16       0.58   \n4                 11.0                  34.0   0.9978  3.51       0.56   \n\n   alcohol  quality  \n0      9.4        5  \n1      9.8        5  \n2      9.8        5  \n3      9.8        6  \n4      9.4        5  ",
      "text/html": "<div>\n<style scoped>\n    .dataframe tbody tr th:only-of-type {\n        vertical-align: middle;\n    }\n\n    .dataframe tbody tr th {\n        vertical-align: top;\n    }\n\n    .dataframe thead th {\n        text-align: right;\n    }\n</style>\n<table border=\"1\" class=\"dataframe\">\n  <thead>\n    <tr style=\"text-align: right;\">\n      <th></th>\n      <th>fixed acidity</th>\n      <th>volatile acidity</th>\n      <th>citric acid</th>\n      <th>residual sugar</th>\n      <th>chlorides</th>\n      <th>free sulfur dioxide</th>\n      <th>total sulfur dioxide</th>\n      <th>density</th>\n      <th>pH</th>\n      <th>sulphates</th>\n      <th>alcohol</th>\n      <th>quality</th>\n    </tr>\n  </thead>\n  <tbody>\n    <tr>\n      <th>0</th>\n      <td>7.4</td>\n      <td>0.70</td>\n      <td>0.00</td>\n      <td>1.9</td>\n      <td>0.076</td>\n      <td>11.0</td>\n      <td>34.0</td>\n      <td>0.9978</td>\n      <td>3.51</td>\n      <td>0.56</td>\n      <td>9.4</td>\n      <td>5</td>\n    </tr>\n    <tr>\n      <th>1</th>\n      <td>7.8</td>\n      <td>0.88</td>\n      <td>0.00</td>\n      <td>2.6</td>\n      <td>0.098</td>\n      <td>25.0</td>\n      <td>67.0</td>\n      <td>0.9968</td>\n      <td>3.20</td>\n      <td>0.68</td>\n      <td>9.8</td>\n      <td>5</td>\n    </tr>\n    <tr>\n      <th>2</th>\n      <td>7.8</td>\n      <td>0.76</td>\n      <td>0.04</td>\n      <td>2.3</td>\n      <td>0.092</td>\n      <td>15.0</td>\n      <td>54.0</td>\n      <td>0.9970</td>\n      <td>3.26</td>\n      <td>0.65</td>\n      <td>9.8</td>\n      <td>5</td>\n    </tr>\n    <tr>\n      <th>3</th>\n      <td>11.2</td>\n      <td>0.28</td>\n      <td>0.56</td>\n      <td>1.9</td>\n      <td>0.075</td>\n      <td>17.0</td>\n      <td>60.0</td>\n      <td>0.9980</td>\n      <td>3.16</td>\n      <td>0.58</td>\n      <td>9.8</td>\n      <td>6</td>\n    </tr>\n    <tr>\n      <th>4</th>\n      <td>7.4</td>\n      <td>0.70</td>\n      <td>0.00</td>\n      <td>1.9</td>\n      <td>0.076</td>\n      <td>11.0</td>\n      <td>34.0</td>\n      <td>0.9978</td>\n      <td>3.51</td>\n      <td>0.56</td>\n      <td>9.4</td>\n      <td>5</td>\n    </tr>\n  </tbody>\n</table>\n</div>"
     },
     "execution_count": 2,
     "metadata": {},
     "output_type": "execute_result"
    }
   ],
   "source": [
    "wine_df = pd.read_csv(\"winequality-red.csv\",sep=';')\n",
    "wine_df.head()"
   ],
   "metadata": {
    "collapsed": false,
    "pycharm": {
     "name": "#%%\n"
    }
   }
  },
  {
   "cell_type": "markdown",
   "source": [
    "### 2. Dataframe to Torch Dataset"
   ],
   "metadata": {
    "collapsed": false,
    "pycharm": {
     "name": "#%% md\n"
    }
   }
  },
  {
   "cell_type": "code",
   "execution_count": 3,
   "outputs": [],
   "source": [
    "X = torch.from_numpy(wine_df.iloc[:,:-1].to_numpy()).type(torch.float)\n",
    "y = torch.from_numpy(wine_df.iloc[:,-1].to_numpy()).type(torch.float)\n",
    "\n",
    "wine_ds = TensorDataset(X, y)"
   ],
   "metadata": {
    "collapsed": false,
    "pycharm": {
     "name": "#%%\n"
    }
   }
  },
  {
   "cell_type": "markdown",
   "source": [
    "### 3. Dataset Train Test Split"
   ],
   "metadata": {
    "collapsed": false,
    "pycharm": {
     "name": "#%% md\n"
    }
   }
  },
  {
   "cell_type": "code",
   "execution_count": 4,
   "outputs": [
    {
     "data": {
      "text/plain": "(1280, 319)"
     },
     "execution_count": 4,
     "metadata": {},
     "output_type": "execute_result"
    }
   ],
   "source": [
    "random_seed = 45\n",
    "torch.manual_seed(random_seed)\n",
    "\n",
    "test_pct = 0.2\n",
    "val_size = int(len(wine_ds)*test_pct)\n",
    "train_size = len(wine_ds) - val_size\n",
    "\n",
    "train_ds, val_ds = torch.utils.data.random_split(wine_ds, [train_size, val_size])\n",
    "len(train_ds), len(val_ds)"
   ],
   "metadata": {
    "collapsed": false,
    "pycharm": {
     "name": "#%%\n"
    }
   }
  },
  {
   "cell_type": "markdown",
   "source": [
    "### 4. Dataloader Train Test Split"
   ],
   "metadata": {
    "collapsed": false,
    "pycharm": {
     "name": "#%% md\n",
     "is_executing": true
    }
   }
  },
  {
   "cell_type": "code",
   "execution_count": 5,
   "outputs": [],
   "source": [
    "batch_size=50\n",
    "train_dl = DataLoader(train_ds, batch_size, shuffle=True)\n",
    "val_dl = DataLoader(val_ds, batch_size)"
   ],
   "metadata": {
    "collapsed": false,
    "pycharm": {
     "name": "#%%\n"
    }
   }
  },
  {
   "cell_type": "code",
   "execution_count": 16,
   "outputs": [],
   "source": [
    "def print_stats( epoch, num_epochs, result):\n",
    "    if (epoch+1) % 100 == 0 or epoch == num_epochs-1:\n",
    "        print(\"[{}] validation loss: {:.4f}\".format(epoch+1, result))\n",
    "\n",
    "\n",
    "class WineModel(nn.Module):\n",
    "    def __init__(self):\n",
    "        super().__init__()\n",
    "        self.linear1 = nn.Linear(11,9)\n",
    "        self.linear2 = nn.Linear(9,6)\n",
    "        self.linear3 = nn.Linear(6,3)\n",
    "        self.bn = nn.BatchNorm1d(3)\n",
    "        self.linear4 = nn.Linear(3,1)\n",
    "\n",
    "\n",
    "    def forward(self, x):\n",
    "        x = F.relu(self.linear1(x))\n",
    "        x = F.relu(self.linear2(x))\n",
    "        x = F.relu(self.linear3(x))\n",
    "        x = self.bn(x)\n",
    "        x = self.linear4(x)\n",
    "        return x\n",
    "\n",
    "    def fit_evaluate(self,num_epochs,learning_rate,train_dataloader,validation_dataloader,optimizer_func=torch.optim.Adam):\n",
    "        result = []\n",
    "        optimizer = optimizer_func(self.parameters(),lr=learning_rate)\n",
    "        for epoch in range(num_epochs):\n",
    "            for batch in train_dataloader:\n",
    "                loss = self.step(batch)\n",
    "                loss.backward()\n",
    "                optimizer.step()\n",
    "                optimizer.zero_grad()\n",
    "\n",
    "            result.append(self.evaluate(validation_dataloader))\n",
    "            print_stats(epoch,num_epochs,result[-1])\n",
    "        return result\n",
    "\n",
    "\n",
    "    def evaluate(self, dataloader):\n",
    "        losses = [self.step(batch).detach() for batch in dataloader]\n",
    "        epoch_loss = torch.stack(losses).mean()\n",
    "        return epoch_loss.item()\n",
    "\n",
    "    def step(self, batch):\n",
    "        inputs, label = batch\n",
    "        label = label.view(-1,1)\n",
    "        output = self(inputs)\n",
    "        loss = F.l1_loss(output,label)\n",
    "        return loss\n"
   ],
   "metadata": {
    "collapsed": false,
    "pycharm": {
     "name": "#%%\n"
    }
   }
  },
  {
   "cell_type": "code",
   "execution_count": 20,
   "outputs": [
    {
     "name": "stdout",
     "output_type": "stream",
     "text": [
      "[100] validation loss: 5.1326\n",
      "[200] validation loss: 5.0756\n",
      "[300] validation loss: 5.0140\n",
      "[400] validation loss: 4.9481\n",
      "[500] validation loss: 4.8778\n",
      "[600] validation loss: 4.8034\n",
      "[700] validation loss: 4.7247\n",
      "[800] validation loss: 4.6418\n",
      "[900] validation loss: 4.5548\n",
      "[1000] validation loss: 4.4635\n",
      "[1100] validation loss: 4.3681\n",
      "[1200] validation loss: 4.2686\n",
      "[1300] validation loss: 4.1649\n",
      "[1400] validation loss: 4.0570\n",
      "[1500] validation loss: 3.9451\n",
      "[1600] validation loss: 3.8290\n",
      "[1700] validation loss: 3.7087\n",
      "[1800] validation loss: 3.5843\n",
      "[1900] validation loss: 3.4559\n",
      "[2000] validation loss: 3.3232\n",
      "[2100] validation loss: 3.1864\n",
      "[2200] validation loss: 3.0454\n",
      "[2300] validation loss: 2.9004\n",
      "[2400] validation loss: 2.7513\n",
      "[2500] validation loss: 2.5999\n",
      "[2600] validation loss: 2.4451\n",
      "[2700] validation loss: 2.2860\n",
      "[2800] validation loss: 2.1224\n",
      "[2900] validation loss: 1.9552\n",
      "[3000] validation loss: 1.7848\n",
      "[3100] validation loss: 1.6133\n",
      "[3200] validation loss: 1.4373\n",
      "[3300] validation loss: 1.2589\n",
      "[3400] validation loss: 1.0807\n",
      "[3500] validation loss: 0.9109\n",
      "[3600] validation loss: 0.7627\n",
      "[3700] validation loss: 0.6492\n",
      "[3800] validation loss: 0.5833\n",
      "[3900] validation loss: 0.5512\n",
      "[4000] validation loss: 0.5356\n",
      "[4100] validation loss: 0.5310\n",
      "[4200] validation loss: 0.5274\n",
      "[4300] validation loss: 0.5269\n",
      "[4400] validation loss: 0.5257\n",
      "[4500] validation loss: 0.5240\n",
      "[4600] validation loss: 0.5239\n",
      "[4700] validation loss: 0.5227\n",
      "[4800] validation loss: 0.5225\n",
      "[4900] validation loss: 0.5211\n",
      "[5000] validation loss: 0.5181\n"
     ]
    }
   ],
   "source": [
    "model=WineModel()\n",
    "epochs = 5000\n",
    "lr = 1e-5\n",
    "results = model.fit_evaluate(epochs, lr, train_dl,val_dl)\n",
    "\n"
   ],
   "metadata": {
    "collapsed": false,
    "pycharm": {
     "name": "#%%\n"
    }
   }
  }
 ],
 "metadata": {
  "kernelspec": {
   "name": "pycharm-846005eb",
   "language": "python",
   "display_name": "PyCharm (Hangup_calls)"
  },
  "language_info": {
   "codemirror_mode": {
    "name": "ipython",
    "version": 2
   },
   "file_extension": ".py",
   "mimetype": "text/x-python",
   "name": "python",
   "nbconvert_exporter": "python",
   "pygments_lexer": "ipython2",
   "version": "2.7.6"
  }
 },
 "nbformat": 4,
 "nbformat_minor": 0
}